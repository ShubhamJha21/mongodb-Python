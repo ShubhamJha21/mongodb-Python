{
 "cells": [
  {
   "cell_type": "markdown",
   "metadata": {},
   "source": [
    "## Mango Db with Python- Querying Json Documents"
   ]
  },
  {
   "cell_type": "code",
   "execution_count": 1,
   "metadata": {},
   "outputs": [],
   "source": [
    "import pymongo\n",
    "\n",
    "client=pymongo.MongoClient('mongodb://127.0.0.1:27017/')\n",
    "\n",
    "mydb=client['Employee']\n",
    "empinfo=mydb.employeeinformation"
   ]
  },
  {
   "cell_type": "code",
   "execution_count": 2,
   "metadata": {},
   "outputs": [
    {
     "data": {
      "text/plain": [
       "<pymongo.results.InsertOneResult at 0x2dd14b7edc0>"
      ]
     },
     "execution_count": 2,
     "metadata": {},
     "output_type": "execute_result"
    }
   ],
   "source": [
    "record={\n",
    "        'firstname':'Shubham',\n",
    "        'lastname':'jha',\n",
    "        'department':'Analytics',\n",
    "        'qualification':'BE',\n",
    "        'age':23\n",
    "        }\n",
    "empinfo.insert_one(record)"
   ]
  },
  {
   "cell_type": "code",
   "execution_count": 3,
   "metadata": {},
   "outputs": [],
   "source": [
    "records=[{\n",
    "        'firstname':'John',\n",
    "        'lastname':'Doe',\n",
    "        'department':'Analytics',\n",
    "        'qualification':'statistics',\n",
    "        'age':35\n",
    "        \n",
    "        },\n",
    "         {\n",
    "        'firstname':'John ',\n",
    "        'lastname':'Smith',\n",
    "        'department':'Analytics',\n",
    "        'qualification':'masters',\n",
    "        'age':30\n",
    "        \n",
    "        },\n",
    "        {\n",
    "        'firstname':'Sita',\n",
    "        'lastname':'ram',\n",
    "        'department':'Analytics',\n",
    "        'qualification':'phd',\n",
    "        'age':34\n",
    "        \n",
    "        },\n",
    "        {\n",
    "        'firstname':'Ram',\n",
    "        'lastname':'Singh',\n",
    "        'department':'Analytics',\n",
    "        'qualification':'master',\n",
    "        'age':32\n",
    "        \n",
    "        }]"
   ]
  },
  {
   "cell_type": "code",
   "execution_count": 4,
   "metadata": {},
   "outputs": [
    {
     "data": {
      "text/plain": [
       "<pymongo.results.InsertManyResult at 0x2dd14b97d00>"
      ]
     },
     "execution_count": 4,
     "metadata": {},
     "output_type": "execute_result"
    }
   ],
   "source": [
    "empinfo.insert_many(records)"
   ]
  },
  {
   "cell_type": "code",
   "execution_count": 5,
   "metadata": {},
   "outputs": [
    {
     "data": {
      "text/plain": [
       "{'_id': ObjectId('5f3e1434f05c88ee9a2ae3f5'),\n",
       " 'first_name': 'Shubham',\n",
       " 'last_name': 'Jha'}"
      ]
     },
     "execution_count": 5,
     "metadata": {},
     "output_type": "execute_result"
    }
   ],
   "source": [
    "## Simple way of querying\n",
    "empinfo.find_one()"
   ]
  },
  {
   "cell_type": "code",
   "execution_count": 6,
   "metadata": {},
   "outputs": [
    {
     "name": "stdout",
     "output_type": "stream",
     "text": [
      "{'_id': ObjectId('5f3e1434f05c88ee9a2ae3f5'), 'first_name': 'Shubham', 'last_name': 'Jha'}\n",
      "{'_id': ObjectId('5f3e1434f05c88ee9a2ae3f6'), 'first_name': 'Shubham0', 'last_name': 'Jha0'}\n",
      "{'_id': ObjectId('5f3e1434f05c88ee9a2ae3f7'), 'first_name': 'Shubham', 'last_name': 'Shrma', 'nick_name': 'IT'}\n",
      "{'_id': ObjectId('5f3e1525c0868a080180fe23'), 'first_name': 'Shubham', 'last_name': 'Jha'}\n",
      "{'_id': ObjectId('5f3e1525c0868a080180fe24'), 'first_name': 'Shubham0', 'last_name': 'Jha0'}\n",
      "{'_id': ObjectId('5f3e1525c0868a080180fe25'), 'first_name': 'Shubham', 'last_name': 'Shrma', 'nick_name': 'IT'}\n",
      "{'_id': ObjectId('5f3e1640e2e16210ea31ee26'), 'first_name': 'Shubham', 'last_name': 'Jha'}\n",
      "{'_id': ObjectId('5f3e1640e2e16210ea31ee27'), 'first_name': 'Shubham0', 'last_name': 'Jha0'}\n",
      "{'_id': ObjectId('5f3e1640e2e16210ea31ee28'), 'first_name': 'Shubham', 'last_name': 'Shrma', 'nick_name': 'IT'}\n",
      "{'_id': ObjectId('5f3e16b7bda1db8132ab084a'), 'first_name': 'Shubham', 'last_name': 'Jha'}\n",
      "{'_id': ObjectId('5f3e16b7bda1db8132ab084b'), 'first_name': 'Shubham0', 'last_name': 'Jha0'}\n",
      "{'_id': ObjectId('5f3e16b7bda1db8132ab084c'), 'first_name': 'Shubham', 'last_name': 'Shrma', 'nick_name': 'IT'}\n",
      "{'_id': ObjectId('5f3e16b7bda1db8132ab084d'), 'firstname': 'John', 'lastname': 'Doe', 'department': 'Analytics', 'qualification': 'statistics', 'age': 35}\n",
      "{'_id': ObjectId('5f3e16b7bda1db8132ab084e'), 'firstname': 'John ', 'lastname': 'Smith', 'department': 'Analytics', 'qualification': 'masters', 'age': 30}\n",
      "{'_id': ObjectId('5f3e17517fd38f2d7993b687'), 'first_name': 'Shubham', 'last_name': 'Jha'}\n",
      "{'_id': ObjectId('5f3e17517fd38f2d7993b688'), 'first_name': 'Shubham0', 'last_name': 'Jha0'}\n",
      "{'_id': ObjectId('5f3e17517fd38f2d7993b689'), 'first_name': 'Shubham', 'last_name': 'Shrma', 'nick_name': 'IT'}\n",
      "{'_id': ObjectId('5f3e17517fd38f2d7993b68a'), 'firstname': 'John', 'lastname': 'Doe', 'department': 'Analytics', 'qualification': 'statistics', 'age': 35}\n",
      "{'_id': ObjectId('5f3e17517fd38f2d7993b68b'), 'firstname': 'John ', 'lastname': 'Smith', 'department': 'Analytics', 'qualification': 'masters', 'age': 30}\n",
      "{'_id': ObjectId('5f3e17cf78a7cc0035f6387d'), 'first_name': 'Shubham', 'last_name': 'Jha'}\n",
      "{'_id': ObjectId('5f3e17cf78a7cc0035f6387e'), 'first_name': 'Shubham0', 'last_name': 'Jha0'}\n",
      "{'_id': ObjectId('5f3e17cf78a7cc0035f6387f'), 'first_name': 'Shubham', 'last_name': 'Shrma', 'nick_name': 'IT'}\n",
      "{'_id': ObjectId('5f3e17cf78a7cc0035f63880'), 'firstname': 'John', 'lastname': 'Doe', 'department': 'Analytics', 'qualification': 'statistics', 'age': 35}\n",
      "{'_id': ObjectId('5f3e17cf78a7cc0035f63881'), 'firstname': 'John ', 'lastname': 'Smith', 'department': 'Analytics', 'qualification': 'masters', 'age': 30}\n",
      "{'_id': ObjectId('5f3e181d1af1a3d2626f54ba'), 'first_name': 'Shubham', 'last_name': 'Jha'}\n",
      "{'_id': ObjectId('5f3e181d1af1a3d2626f54bb'), 'first_name': 'Shubham0', 'last_name': 'Jha0'}\n",
      "{'_id': ObjectId('5f3e181d1af1a3d2626f54bc'), 'first_name': 'Shubham', 'last_name': 'Shrma', 'nick_name': 'IT'}\n",
      "{'_id': ObjectId('5f3e181d1af1a3d2626f54bd'), 'firstname': 'John', 'lastname': 'Doe', 'department': 'Analytics', 'qualification': 'statistics', 'age': 35}\n",
      "{'_id': ObjectId('5f3e181d1af1a3d2626f54be'), 'firstname': 'John ', 'lastname': 'Smith', 'department': 'Analytics', 'qualification': 'masters', 'age': 30}\n",
      "{'_id': ObjectId('5f3e2a25aef53ffc5d4acb75'), 'first_name': 'Shubham', 'last_name': 'Jha'}\n",
      "{'_id': ObjectId('5f3e2a25aef53ffc5d4acb76'), 'first_name': 'Shubham0', 'last_name': 'Jha0'}\n",
      "{'_id': ObjectId('5f3e2a25aef53ffc5d4acb77'), 'first_name': 'Shubham', 'last_name': 'Shrma', 'nick_name': 'IT'}\n",
      "{'_id': ObjectId('5f3e2a25aef53ffc5d4acb78'), 'firstname': 'John', 'lastname': 'Doe', 'department': 'Analytics', 'qualification': 'statistics', 'age': 35}\n",
      "{'_id': ObjectId('5f3e2a25aef53ffc5d4acb79'), 'firstname': 'John ', 'lastname': 'Smith', 'department': 'Analytics', 'qualification': 'masters', 'age': 30}\n",
      "{'_id': ObjectId('5f3e2a5ed2914af518a4fb83'), 'first_name': 'Shubham', 'last_name': 'Jha'}\n",
      "{'_id': ObjectId('5f3e2a5ed2914af518a4fb84'), 'first_name': 'Shubham0', 'last_name': 'Jha0'}\n",
      "{'_id': ObjectId('5f3e2a5ed2914af518a4fb85'), 'first_name': 'Shubham', 'last_name': 'Shrma', 'nick_name': 'IT'}\n",
      "{'_id': ObjectId('5f3e2a5ed2914af518a4fb86'), 'firstname': 'John', 'lastname': 'Doe', 'department': 'Analytics', 'qualification': 'statistics', 'age': 35}\n",
      "{'_id': ObjectId('5f3e2a5ed2914af518a4fb87'), 'firstname': 'John ', 'lastname': 'Smith', 'department': 'Analytics', 'qualification': 'masters', 'age': 30}\n",
      "{'_id': ObjectId('5f3e2a8d85379276ee86dda2'), 'first_name': 'Shubham', 'last_name': 'Jha'}\n",
      "{'_id': ObjectId('5f3e2a8d85379276ee86dda3'), 'first_name': 'Shubham0', 'last_name': 'Jha0'}\n",
      "{'_id': ObjectId('5f3e2a8d85379276ee86dda4'), 'first_name': 'Shubham', 'last_name': 'Shrma', 'nick_name': 'IT'}\n",
      "{'_id': ObjectId('5f3e2a8d85379276ee86dda5'), 'firstname': 'John', 'lastname': 'Doe', 'department': 'Analytics', 'qualification': 'statistics', 'age': 35}\n",
      "{'_id': ObjectId('5f3e2a8d85379276ee86dda6'), 'firstname': 'John ', 'lastname': 'Smith', 'department': 'Analytics', 'qualification': 'masters', 'age': 30}\n",
      "{'_id': ObjectId('5f3e2a95158c611c98f5931b'), 'first_name': 'Shubham', 'last_name': 'Jha'}\n",
      "{'_id': ObjectId('5f3e2a95158c611c98f5931c'), 'first_name': 'Shubham0', 'last_name': 'Jha0'}\n",
      "{'_id': ObjectId('5f3e2a95158c611c98f5931d'), 'first_name': 'Shubham', 'last_name': 'Shrma', 'nick_name': 'IT'}\n",
      "{'_id': ObjectId('5f3e2a95158c611c98f5931e'), 'firstname': 'John', 'lastname': 'Doe', 'department': 'Analytics', 'qualification': 'statistics', 'age': 35}\n",
      "{'_id': ObjectId('5f3e2a95158c611c98f5931f'), 'firstname': 'John ', 'lastname': 'Smith', 'department': 'Analytics', 'qualification': 'masters', 'age': 30}\n",
      "{'_id': ObjectId('5f5c7792bd13df9c92de125c'), 'firstname': 'Shubham', 'lastname': 'jha', 'department': 'Analytics', 'qualification': 'BE', 'age': 23}\n",
      "{'_id': ObjectId('5f5c7793bd13df9c92de125d'), 'firstname': 'John', 'lastname': 'Doe', 'department': 'Analytics', 'qualification': 'statistics', 'age': 35}\n",
      "{'_id': ObjectId('5f5c7793bd13df9c92de125e'), 'firstname': 'John ', 'lastname': 'Smith', 'department': 'Analytics', 'qualification': 'masters', 'age': 30}\n",
      "{'_id': ObjectId('5f5c7793bd13df9c92de125f'), 'firstname': 'Sita', 'lastname': 'ram', 'department': 'Analytics', 'qualification': 'phd', 'age': 34}\n",
      "{'_id': ObjectId('5f5c7793bd13df9c92de1260'), 'firstname': 'Ram', 'lastname': 'Singh', 'department': 'Analytics', 'qualification': 'master', 'age': 32}\n"
     ]
    }
   ],
   "source": [
    "## Select * from employeeinformation\n",
    "for record in empinfo.find({}):\n",
    "    print(record)"
   ]
  },
  {
   "cell_type": "code",
   "execution_count": 14,
   "metadata": {},
   "outputs": [
    {
     "name": "stdout",
     "output_type": "stream",
     "text": [
      "{'_id': ObjectId('5f5c7792bd13df9c92de125c'), 'firstname': 'Shubham', 'lastname': 'jha', 'department': 'Analytics', 'qualification': 'BE', 'age': 23}\n"
     ]
    }
   ],
   "source": [
    "## Query the json documents based on equality conditions\n",
    "# Select * from employeeinformation where firstname=krish\n",
    "\n",
    "for record in empinfo.find({'firstname':'Shubham'}):\n",
    "    print(record)\n"
   ]
  },
  {
   "cell_type": "code",
   "execution_count": 8,
   "metadata": {},
   "outputs": [
    {
     "name": "stdout",
     "output_type": "stream",
     "text": [
      "{'_id': ObjectId('5f5c7793bd13df9c92de125f'), 'firstname': 'Sita', 'lastname': 'ram', 'department': 'Analytics', 'qualification': 'phd', 'age': 34}\n",
      "{'_id': ObjectId('5f5c7793bd13df9c92de1260'), 'firstname': 'Ram', 'lastname': 'Singh', 'department': 'Analytics', 'qualification': 'master', 'age': 32}\n"
     ]
    }
   ],
   "source": [
    "## Query documents using query operators($in,$lt,$gt)\n",
    "for record in empinfo.find({'qualification':{'$in':['phd','master']}}):\n",
    "    print(record)"
   ]
  },
  {
   "cell_type": "code",
   "execution_count": 9,
   "metadata": {},
   "outputs": [
    {
     "name": "stdout",
     "output_type": "stream",
     "text": [
      "{'_id': ObjectId('5f5c7793bd13df9c92de1260'), 'firstname': 'Ram', 'lastname': 'Singh', 'department': 'Analytics', 'qualification': 'master', 'age': 32}\n"
     ]
    }
   ],
   "source": [
    "## And and Query operators\n",
    "for record in empinfo.find({'qualification':'master','age':{'$lt':35}}):\n",
    "    print(record)"
   ]
  },
  {
   "cell_type": "code",
   "execution_count": 10,
   "metadata": {},
   "outputs": [
    {
     "name": "stdout",
     "output_type": "stream",
     "text": [
      "{'_id': ObjectId('5f5c7792bd13df9c92de125c'), 'firstname': 'Shubham', 'lastname': 'jha', 'department': 'Analytics', 'qualification': 'BE', 'age': 23}\n"
     ]
    }
   ],
   "source": [
    "## OR operators\n",
    "for record in empinfo.find({'$or':[{'firstname':'Krish'},{'qualification':'BE'}]}):\n",
    "    print(record)"
   ]
  },
  {
   "cell_type": "code",
   "execution_count": 11,
   "metadata": {},
   "outputs": [],
   "source": [
    "inventory=mydb.inventory"
   ]
  },
  {
   "cell_type": "code",
   "execution_count": 12,
   "metadata": {},
   "outputs": [],
   "source": [
    "inventory.insert_many( [\n",
    "   { 'item': \"journal\", 'qty': 25, 'size': { 'h': 14, 'w': 21,'uom': \"cm\" }, 'status': \"A\" },\n",
    "   { 'item': \"notebook\", 'qty': 50,'size': { 'h': 8.5, 'w': 11,'uom': \"in\" },'status': \"A\" },\n",
    "   { 'item': \"paper\", 'qty': 100, 'size': { 'h': 8.5, 'w': 11,'uom': \"in\" },'status': \"D\" },\n",
    "   { 'item': \"planner\", 'qty': 75, 'size': { 'h': 22.85,'w': 30,'uom': \"cm\" },'status': \"D\" },\n",
    "   { 'item': \"postcard\", 'qty': 45, 'size': { 'h': 10, 'w': 15.25,'uom': \"cm\" },'status': \"A\" }\n",
    "]);\n",
    "    "
   ]
  },
  {
   "cell_type": "code",
   "execution_count": 13,
   "metadata": {},
   "outputs": [
    {
     "name": "stdout",
     "output_type": "stream",
     "text": [
      "{'_id': ObjectId('5f5c7794bd13df9c92de1261'), 'item': 'journal', 'qty': 25, 'size': {'h': 14, 'w': 21, 'uom': 'cm'}, 'status': 'A'}\n"
     ]
    }
   ],
   "source": [
    "for records in inventory.find({'size': { 'h': 14, 'w': 21,'uom': \"cm\" }}):\n",
    "    print(records)"
   ]
  },
  {
   "cell_type": "code",
   "execution_count": null,
   "metadata": {},
   "outputs": [],
   "source": []
  },
  {
   "cell_type": "code",
   "execution_count": null,
   "metadata": {},
   "outputs": [],
   "source": []
  },
  {
   "cell_type": "code",
   "execution_count": null,
   "metadata": {},
   "outputs": [],
   "source": []
  },
  {
   "cell_type": "code",
   "execution_count": null,
   "metadata": {},
   "outputs": [],
   "source": []
  },
  {
   "cell_type": "code",
   "execution_count": null,
   "metadata": {},
   "outputs": [],
   "source": []
  },
  {
   "cell_type": "code",
   "execution_count": null,
   "metadata": {},
   "outputs": [],
   "source": []
  },
  {
   "cell_type": "code",
   "execution_count": null,
   "metadata": {},
   "outputs": [],
   "source": []
  }
 ],
 "metadata": {
  "kernelspec": {
   "display_name": "Python 3",
   "language": "python",
   "name": "python3"
  },
  "language_info": {
   "codemirror_mode": {
    "name": "ipython",
    "version": 3
   },
   "file_extension": ".py",
   "mimetype": "text/x-python",
   "name": "python",
   "nbconvert_exporter": "python",
   "pygments_lexer": "ipython3",
   "version": "3.8.3"
  }
 },
 "nbformat": 4,
 "nbformat_minor": 2
}
